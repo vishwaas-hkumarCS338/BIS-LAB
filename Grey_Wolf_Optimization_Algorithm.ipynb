{
  "nbformat": 4,
  "nbformat_minor": 0,
  "metadata": {
    "colab": {
      "provenance": []
    },
    "kernelspec": {
      "name": "python3",
      "display_name": "Python 3"
    },
    "language_info": {
      "name": "python"
    }
  },
  "cells": [
    {
      "cell_type": "code",
      "execution_count": null,
      "metadata": {
        "colab": {
          "base_uri": "https://localhost:8080/"
        },
        "id": "W8Q_jROgomNm",
        "outputId": "3d4ace8f-7d6b-4931-a9d6-a7eb273bf934"
      },
      "outputs": [
        {
          "output_type": "stream",
          "name": "stdout",
          "text": [
            "Best Position: [ 1.14140140e-15  1.24478541e-15 -1.34582528e-15 -1.12726288e-15\n",
            "  1.19967908e-15 -1.18822029e-15 -1.21898647e-15 -1.33611998e-15\n",
            "  1.15606144e-15 -1.11741118e-15 -9.96746032e-16  1.16582332e-15\n",
            " -9.98139866e-16  1.20055056e-15  9.14351167e-16 -1.07447112e-15\n",
            " -1.31474169e-15 -1.17384098e-15  1.05637421e-15  1.18776669e-15\n",
            "  9.96979198e-16  1.23375647e-15  1.21522658e-15  1.10702535e-15\n",
            " -1.22206235e-15  1.12183385e-15 -1.26634618e-15 -1.23520077e-15\n",
            " -1.42726204e-15 -1.12074697e-15]\n",
            "Best Score: 4.144838032512438e-29\n"
          ]
        }
      ],
      "source": [
        "import numpy as np\n",
        "\n",
        "# Fitness function (to be minimized)\n",
        "def fitness_function(x):\n",
        "    return np.sum(x**2)  # Example: Sphere function\n",
        "\n",
        "# Grey Wolf Optimization (GWO) Algorithm\n",
        "def grey_wolf_optimization(fitness_function, dim, n_agents, max_iter):\n",
        "    # Initialize the positions of grey wolves (search agents)\n",
        "    wolves = np.random.uniform(-10, 10, (n_agents, dim))\n",
        "\n",
        "    # Initialize alpha, beta, and delta wolves\n",
        "    alpha_pos = np.zeros(dim)\n",
        "    alpha_score = float(\"inf\")\n",
        "    beta_pos = np.zeros(dim)\n",
        "    beta_score = float(\"inf\")\n",
        "    delta_pos = np.zeros(dim)\n",
        "    delta_score = float(\"inf\")\n",
        "\n",
        "    # Main loop\n",
        "    a = 2  # Parameter a linearly decreases from 2 to 0\n",
        "    for t in range(max_iter):\n",
        "        for i in range(n_agents):\n",
        "            # Calculate fitness\n",
        "            fitness = fitness_function(wolves[i])\n",
        "\n",
        "            # Update alpha, beta, and delta\n",
        "            if fitness < alpha_score:\n",
        "                delta_score = beta_score\n",
        "                delta_pos = beta_pos.copy()\n",
        "                beta_score = alpha_score\n",
        "                beta_pos = alpha_pos.copy()\n",
        "                alpha_score = fitness\n",
        "                alpha_pos = wolves[i].copy()\n",
        "            elif fitness < beta_score:\n",
        "                delta_score = beta_score\n",
        "                delta_pos = beta_pos.copy()\n",
        "                beta_score = fitness\n",
        "                beta_pos = wolves[i].copy()\n",
        "            elif fitness < delta_score:\n",
        "                delta_score = fitness\n",
        "                delta_pos = wolves[i].copy()\n",
        "\n",
        "        # Update the position of each wolf\n",
        "        for i in range(n_agents):\n",
        "            r1, r2 = np.random.rand(dim), np.random.rand(dim)\n",
        "            A1 = 2 * a * r1 - a\n",
        "            C1 = 2 * r2\n",
        "            D_alpha = abs(C1 * alpha_pos - wolves[i])\n",
        "            X1 = alpha_pos - A1 * D_alpha\n",
        "\n",
        "            r1, r2 = np.random.rand(dim), np.random.rand(dim)\n",
        "            A2 = 2 * a * r1 - a\n",
        "            C2 = 2 * r2\n",
        "            D_beta = abs(C2 * beta_pos - wolves[i])\n",
        "            X2 = beta_pos - A2 * D_beta\n",
        "\n",
        "            r1, r2 = np.random.rand(dim), np.random.rand(dim)\n",
        "            A3 = 2 * a * r1 - a\n",
        "            C3 = 2 * r2\n",
        "            D_delta = abs(C3 * delta_pos - wolves[i])\n",
        "            X3 = delta_pos - A3 * D_delta\n",
        "\n",
        "            # Update wolf position\n",
        "            wolves[i] = (X1 + X2 + X3) / 3\n",
        "\n",
        "        # Linearly decrease a\n",
        "        a = 2 - t * (2 / max_iter)\n",
        "\n",
        "    # Return the best solution\n",
        "    return alpha_pos, alpha_score\n",
        "\n",
        "# Parameters\n",
        "dim = 30  # Dimension of the problem\n",
        "n_agents = 20  # Number of wolves (search agents)\n",
        "max_iter = 500  # Maximum number of iterations\n",
        "\n",
        "# Run GWO\n",
        "best_position, best_score = grey_wolf_optimization(fitness_function, dim, n_agents, max_iter)\n",
        "\n",
        "# Output results\n",
        "print(\"Best Position:\", best_position)\n",
        "print(\"Best Score:\", best_score)\n"
      ]
    }
  ]
}